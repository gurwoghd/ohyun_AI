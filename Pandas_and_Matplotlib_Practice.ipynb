{
  "nbformat": 4,
  "nbformat_minor": 0,
  "metadata": {
    "colab": {
      "name": "Pandas and Matplotlib Practice.ipynb",
      "provenance": [],
      "collapsed_sections": []
    },
    "kernelspec": {
      "name": "python3",
      "display_name": "Python 3"
    }
  },
  "cells": [
    {
      "cell_type": "code",
      "metadata": {
        "id": "ugbhxR94B2ux",
        "colab_type": "code",
        "colab": {
          "base_uri": "https://localhost:8080/",
          "height": 204
        },
        "outputId": "21f7fe30-a511-4ae3-f1d9-44b30ffbd7e8"
      },
      "source": [
        "import numpy as np\n",
        "import pandas as pd\n",
        "label = ['a', 'b', 'c']\n",
        "my_data = [10,20,30]\n",
        "pd.Series(my_data, index=label)\n",
        "ser1 = pd.Series(data = [1,2,3,4], index = ['한국', '미국', '영국', '일본']) # pd.Series(data, index)\n",
        "ser2 = pd.Series(data = [1,2,3,4], index = ['한국', '미국', '오현고', '일본'])\n",
        "np.random.seed(10)\n",
        "df = pd.DataFrame(np.random.randn(5,4), ['A','B','C','D','E'], ['W','X','Y','Z'])\n",
        "# 특정 column의 값을 구하고 싶을 때 -> df['column_name'] \n",
        "# 특정 index의 값들을 구하고 싶을 때 -> df.loc['index_name'] => 위치 : df.iloc[n]\n",
        "# join -> df.loc[['index_name'], ['column_name']]\n",
        "# df.drop('index_name')\n",
        "# df.drop('column_name', axis=1) => inplace=True로 하면 명령 실행 후의 상태를 저장한다."
      ],
      "execution_count": null,
      "outputs": [
        {
          "output_type": "execute_result",
          "data": {
            "text/html": [
              "<div>\n",
              "<style scoped>\n",
              "    .dataframe tbody tr th:only-of-type {\n",
              "        vertical-align: middle;\n",
              "    }\n",
              "\n",
              "    .dataframe tbody tr th {\n",
              "        vertical-align: top;\n",
              "    }\n",
              "\n",
              "    .dataframe thead th {\n",
              "        text-align: right;\n",
              "    }\n",
              "</style>\n",
              "<table border=\"1\" class=\"dataframe\">\n",
              "  <thead>\n",
              "    <tr style=\"text-align: right;\">\n",
              "      <th></th>\n",
              "      <th>W</th>\n",
              "      <th>Y</th>\n",
              "    </tr>\n",
              "  </thead>\n",
              "  <tbody>\n",
              "    <tr>\n",
              "      <th>A</th>\n",
              "      <td>1.331587</td>\n",
              "      <td>-1.545400</td>\n",
              "    </tr>\n",
              "    <tr>\n",
              "      <th>B</th>\n",
              "      <td>0.621336</td>\n",
              "      <td>0.265512</td>\n",
              "    </tr>\n",
              "    <tr>\n",
              "      <th>C</th>\n",
              "      <td>0.004291</td>\n",
              "      <td>0.433026</td>\n",
              "    </tr>\n",
              "    <tr>\n",
              "      <th>D</th>\n",
              "      <td>-0.965066</td>\n",
              "      <td>0.228630</td>\n",
              "    </tr>\n",
              "    <tr>\n",
              "      <th>E</th>\n",
              "      <td>-1.136602</td>\n",
              "      <td>1.484537</td>\n",
              "    </tr>\n",
              "  </tbody>\n",
              "</table>\n",
              "</div>"
            ],
            "text/plain": [
              "          W         Y\n",
              "A  1.331587 -1.545400\n",
              "B  0.621336  0.265512\n",
              "C  0.004291  0.433026\n",
              "D -0.965066  0.228630\n",
              "E -1.136602  1.484537"
            ]
          },
          "metadata": {
            "tags": []
          },
          "execution_count": 88
        }
      ]
    },
    {
      "cell_type": "code",
      "metadata": {
        "id": "zgZnz5PLNTEG",
        "colab_type": "code",
        "colab": {}
      },
      "source": [
        ""
      ],
      "execution_count": null,
      "outputs": []
    },
    {
      "cell_type": "markdown",
      "metadata": {
        "id": "ErG2lfVYNb3T",
        "colab_type": "text"
      },
      "source": [
        "# numpy 실습"
      ]
    },
    {
      "cell_type": "code",
      "metadata": {
        "id": "JsN4v3ChM4iO",
        "colab_type": "code",
        "colab": {
          "base_uri": "https://localhost:8080/",
          "height": 53
        },
        "outputId": "591fb2e0-1505-4ca0-809a-b992ee8d5756"
      },
      "source": [
        "import numpy as np\n",
        "\n",
        "a = [1,2,3,4,5,6]\n",
        "b = np.array(a)\n",
        "b.reshape(2,-1)"
      ],
      "execution_count": 5,
      "outputs": [
        {
          "output_type": "execute_result",
          "data": {
            "text/plain": [
              "array([[1, 2, 3],\n",
              "       [4, 5, 6]])"
            ]
          },
          "metadata": {
            "tags": []
          },
          "execution_count": 5
        }
      ]
    },
    {
      "cell_type": "markdown",
      "metadata": {
        "id": "vvc5HXcZNm3_",
        "colab_type": "text"
      },
      "source": [
        "# pandas 실습"
      ]
    },
    {
      "cell_type": "code",
      "metadata": {
        "id": "qaEobAVENldW",
        "colab_type": "code",
        "colab": {
          "base_uri": "https://localhost:8080/",
          "height": 125
        },
        "outputId": "516823da-06b0-4963-9adf-9ee683784934"
      },
      "source": [
        "import pandas as pd\n",
        "\n",
        "ser1 = pd.Series([1,2,3,4], ['오현고', '대기고', '일고', '제주대'])\n",
        "ser2 = pd.Series([1,2,3,4], ['오현고', '대기고', '일고', '한라대'])\n",
        "ser1+ser2"
      ],
      "execution_count": 9,
      "outputs": [
        {
          "output_type": "execute_result",
          "data": {
            "text/plain": [
              "대기고    4.0\n",
              "오현고    2.0\n",
              "일고     6.0\n",
              "제주대    NaN\n",
              "한라대    NaN\n",
              "dtype: float64"
            ]
          },
          "metadata": {
            "tags": []
          },
          "execution_count": 9
        }
      ]
    },
    {
      "cell_type": "code",
      "metadata": {
        "id": "iZEpn3XMORq_",
        "colab_type": "code",
        "colab": {}
      },
      "source": [
        "np.random.seed(10) # seed는 랜덤한 값이 같게 나오게 해준다.\n",
        "value = np.random.randn(5,4) # random.randn은 렌덤하게 수를 만들어준다. \n",
        "                    # 이때 5행 4열로 만든다는 의미이다."
      ],
      "execution_count": 12,
      "outputs": []
    },
    {
      "cell_type": "code",
      "metadata": {
        "id": "BJMFQ0NGO4m_",
        "colab_type": "code",
        "colab": {
          "base_uri": "https://localhost:8080/",
          "height": 204
        },
        "outputId": "8f77cbbb-747b-489e-cd0e-689e3b045762"
      },
      "source": [
        "df = pd.DataFrame(value, ['W','Y','Z','X','K'], ['A','B','C','D']) # pd.DataFrame(데이터, 인덱스, 컬럼)\n",
        "df"
      ],
      "execution_count": 57,
      "outputs": [
        {
          "output_type": "execute_result",
          "data": {
            "text/html": [
              "<div>\n",
              "<style scoped>\n",
              "    .dataframe tbody tr th:only-of-type {\n",
              "        vertical-align: middle;\n",
              "    }\n",
              "\n",
              "    .dataframe tbody tr th {\n",
              "        vertical-align: top;\n",
              "    }\n",
              "\n",
              "    .dataframe thead th {\n",
              "        text-align: right;\n",
              "    }\n",
              "</style>\n",
              "<table border=\"1\" class=\"dataframe\">\n",
              "  <thead>\n",
              "    <tr style=\"text-align: right;\">\n",
              "      <th></th>\n",
              "      <th>A</th>\n",
              "      <th>B</th>\n",
              "      <th>C</th>\n",
              "      <th>D</th>\n",
              "    </tr>\n",
              "  </thead>\n",
              "  <tbody>\n",
              "    <tr>\n",
              "      <th>W</th>\n",
              "      <td>1.331587</td>\n",
              "      <td>0.715279</td>\n",
              "      <td>-1.545400</td>\n",
              "      <td>-0.008384</td>\n",
              "    </tr>\n",
              "    <tr>\n",
              "      <th>Y</th>\n",
              "      <td>0.621336</td>\n",
              "      <td>-0.720086</td>\n",
              "      <td>0.265512</td>\n",
              "      <td>0.108549</td>\n",
              "    </tr>\n",
              "    <tr>\n",
              "      <th>Z</th>\n",
              "      <td>0.004291</td>\n",
              "      <td>-0.174600</td>\n",
              "      <td>0.433026</td>\n",
              "      <td>1.203037</td>\n",
              "    </tr>\n",
              "    <tr>\n",
              "      <th>X</th>\n",
              "      <td>-0.965066</td>\n",
              "      <td>1.028274</td>\n",
              "      <td>0.228630</td>\n",
              "      <td>0.445138</td>\n",
              "    </tr>\n",
              "    <tr>\n",
              "      <th>K</th>\n",
              "      <td>-1.136602</td>\n",
              "      <td>0.135137</td>\n",
              "      <td>1.484537</td>\n",
              "      <td>-1.079805</td>\n",
              "    </tr>\n",
              "  </tbody>\n",
              "</table>\n",
              "</div>"
            ],
            "text/plain": [
              "          A         B         C         D\n",
              "W  1.331587  0.715279 -1.545400 -0.008384\n",
              "Y  0.621336 -0.720086  0.265512  0.108549\n",
              "Z  0.004291 -0.174600  0.433026  1.203037\n",
              "X -0.965066  1.028274  0.228630  0.445138\n",
              "K -1.136602  0.135137  1.484537 -1.079805"
            ]
          },
          "metadata": {
            "tags": []
          },
          "execution_count": 57
        }
      ]
    },
    {
      "cell_type": "code",
      "metadata": {
        "id": "YVN8R2fxPKL_",
        "colab_type": "code",
        "colab": {
          "base_uri": "https://localhost:8080/",
          "height": 80
        },
        "outputId": "342e5a67-1f76-48f4-f0d2-e72ae8e9e506"
      },
      "source": [
        "# loc : 인덱스 이름으로 값을 가져온다.\n",
        "# iloc : 인덱스 위치로 값을 가져온다.\n",
        "df.loc[['W'], ['A']]"
      ],
      "execution_count": 28,
      "outputs": [
        {
          "output_type": "execute_result",
          "data": {
            "text/html": [
              "<div>\n",
              "<style scoped>\n",
              "    .dataframe tbody tr th:only-of-type {\n",
              "        vertical-align: middle;\n",
              "    }\n",
              "\n",
              "    .dataframe tbody tr th {\n",
              "        vertical-align: top;\n",
              "    }\n",
              "\n",
              "    .dataframe thead th {\n",
              "        text-align: right;\n",
              "    }\n",
              "</style>\n",
              "<table border=\"1\" class=\"dataframe\">\n",
              "  <thead>\n",
              "    <tr style=\"text-align: right;\">\n",
              "      <th></th>\n",
              "      <th>A</th>\n",
              "    </tr>\n",
              "  </thead>\n",
              "  <tbody>\n",
              "    <tr>\n",
              "      <th>W</th>\n",
              "      <td>1.331587</td>\n",
              "    </tr>\n",
              "  </tbody>\n",
              "</table>\n",
              "</div>"
            ],
            "text/plain": [
              "          A\n",
              "W  1.331587"
            ]
          },
          "metadata": {
            "tags": []
          },
          "execution_count": 28
        }
      ]
    },
    {
      "cell_type": "code",
      "metadata": {
        "id": "W0yQXm6NQRfZ",
        "colab_type": "code",
        "colab": {
          "base_uri": "https://localhost:8080/",
          "height": 80
        },
        "outputId": "70ee2a79-eb3f-4eef-fe8b-262a01d9d040"
      },
      "source": [
        "# 조건을 쓰고 싶을 때 : \n",
        "df[(df['B'] > 0) & (df['D'] > 0)]"
      ],
      "execution_count": 37,
      "outputs": [
        {
          "output_type": "execute_result",
          "data": {
            "text/html": [
              "<div>\n",
              "<style scoped>\n",
              "    .dataframe tbody tr th:only-of-type {\n",
              "        vertical-align: middle;\n",
              "    }\n",
              "\n",
              "    .dataframe tbody tr th {\n",
              "        vertical-align: top;\n",
              "    }\n",
              "\n",
              "    .dataframe thead th {\n",
              "        text-align: right;\n",
              "    }\n",
              "</style>\n",
              "<table border=\"1\" class=\"dataframe\">\n",
              "  <thead>\n",
              "    <tr style=\"text-align: right;\">\n",
              "      <th></th>\n",
              "      <th>A</th>\n",
              "      <th>B</th>\n",
              "      <th>C</th>\n",
              "      <th>D</th>\n",
              "    </tr>\n",
              "  </thead>\n",
              "  <tbody>\n",
              "    <tr>\n",
              "      <th>X</th>\n",
              "      <td>-0.965066</td>\n",
              "      <td>1.028274</td>\n",
              "      <td>0.22863</td>\n",
              "      <td>0.445138</td>\n",
              "    </tr>\n",
              "  </tbody>\n",
              "</table>\n",
              "</div>"
            ],
            "text/plain": [
              "          A         B        C         D\n",
              "X -0.965066  1.028274  0.22863  0.445138"
            ]
          },
          "metadata": {
            "tags": []
          },
          "execution_count": 37
        }
      ]
    },
    {
      "cell_type": "code",
      "metadata": {
        "id": "C4lmFKoqRZfY",
        "colab_type": "code",
        "colab": {}
      },
      "source": [
        "df.drop('D', axis = 1, inplace=True)"
      ],
      "execution_count": 58,
      "outputs": []
    },
    {
      "cell_type": "code",
      "metadata": {
        "id": "123WG0KtRbFe",
        "colab_type": "code",
        "colab": {}
      },
      "source": [
        "a = [1,2,3,4,5]\n",
        "df['D'] = a"
      ],
      "execution_count": 59,
      "outputs": []
    },
    {
      "cell_type": "code",
      "metadata": {
        "id": "zwMqeXx8SxMZ",
        "colab_type": "code",
        "colab": {
          "base_uri": "https://localhost:8080/",
          "height": 266
        },
        "outputId": "3a7bc9fa-7392-4076-b0c3-c6b6635b3f3d"
      },
      "source": [
        "data = pd.DataFrame({'HighSchool' : ['오현고', '대기고', '일고', '서고','중앙고', '사대부고'], 'Person' : ['사람1', '사람2', '사람3', '사람4', '사람5', '사람6']})\n",
        "data['Number'] = 1\n",
        "\n",
        "data.groupby('HighSchool').std()"
      ],
      "execution_count": 70,
      "outputs": [
        {
          "output_type": "execute_result",
          "data": {
            "text/html": [
              "<div>\n",
              "<style scoped>\n",
              "    .dataframe tbody tr th:only-of-type {\n",
              "        vertical-align: middle;\n",
              "    }\n",
              "\n",
              "    .dataframe tbody tr th {\n",
              "        vertical-align: top;\n",
              "    }\n",
              "\n",
              "    .dataframe thead th {\n",
              "        text-align: right;\n",
              "    }\n",
              "</style>\n",
              "<table border=\"1\" class=\"dataframe\">\n",
              "  <thead>\n",
              "    <tr style=\"text-align: right;\">\n",
              "      <th></th>\n",
              "      <th>Number</th>\n",
              "    </tr>\n",
              "    <tr>\n",
              "      <th>HighSchool</th>\n",
              "      <th></th>\n",
              "    </tr>\n",
              "  </thead>\n",
              "  <tbody>\n",
              "    <tr>\n",
              "      <th>대기고</th>\n",
              "      <td>NaN</td>\n",
              "    </tr>\n",
              "    <tr>\n",
              "      <th>사대부고</th>\n",
              "      <td>NaN</td>\n",
              "    </tr>\n",
              "    <tr>\n",
              "      <th>서고</th>\n",
              "      <td>NaN</td>\n",
              "    </tr>\n",
              "    <tr>\n",
              "      <th>오현고</th>\n",
              "      <td>NaN</td>\n",
              "    </tr>\n",
              "    <tr>\n",
              "      <th>일고</th>\n",
              "      <td>NaN</td>\n",
              "    </tr>\n",
              "    <tr>\n",
              "      <th>중앙고</th>\n",
              "      <td>NaN</td>\n",
              "    </tr>\n",
              "  </tbody>\n",
              "</table>\n",
              "</div>"
            ],
            "text/plain": [
              "            Number\n",
              "HighSchool        \n",
              "대기고            NaN\n",
              "사대부고           NaN\n",
              "서고             NaN\n",
              "오현고            NaN\n",
              "일고             NaN\n",
              "중앙고            NaN"
            ]
          },
          "metadata": {
            "tags": []
          },
          "execution_count": 70
        }
      ]
    },
    {
      "cell_type": "markdown",
      "metadata": {
        "id": "ZYEJPrNNV3i9",
        "colab_type": "text"
      },
      "source": [
        "# matplotlib 그래프"
      ]
    },
    {
      "cell_type": "code",
      "metadata": {
        "id": "FvFTb35KV6bi",
        "colab_type": "code",
        "colab": {
          "base_uri": "https://localhost:8080/",
          "height": 297
        },
        "outputId": "2f23c767-be8a-4ac0-c436-4da0ad821901"
      },
      "source": [
        "import matplotlib.pyplot as plt\n",
        "\n",
        "%matplotlib inline\n",
        "# x = np.linspace(0,5,11) # linspace는 0부터 5까지 11개의 수를 만든다.\n",
        "\n",
        "x = np.linspace(6,9)\n",
        "y = 2*x + 1\n",
        "# plt.subplot(1,1,1)\n",
        "# plt.plot(x, y)\n",
        "\n",
        "# plt.subplot(1,2,2)\n",
        "# plt.plot(y,x)\n",
        "\n",
        "# plt.subplot(2,1,1) # subplot : 2행 1열에 첫번째 그림을 그리겠다.\n",
        "# plt.plot(x, y)\n",
        "fig, axes = plt.subplots(nrows = 3, ncols=1) # subplot을 합친 것\n",
        "axes[0].plot(x,y)\n",
        "axes[0].set_xlabel('X Label 1')\n",
        "axes[1].plot(y,x)\n",
        "axes[1].set_xlabel('X Label 2')\n",
        "axes[2].plot(x + 1,y)\n",
        "axes[2].set_xlabel('X Label 3')\n",
        "plt.tight_layout()\n",
        "plt.show()"
      ],
      "execution_count": 115,
      "outputs": [
        {
          "output_type": "display_data",
          "data": {
            "image/png": "[encoded data removed]",
            "text/plain": [
              "<Figure size 432x288 with 3 Axes>"
            ]
          },
          "metadata": {
            "tags": [],
            "needs_background": "light"
          }
        }
      ]
    },
    {
      "cell_type": "code",
      "metadata": {
        "id": "crHfXqYTeiXy",
        "colab_type": "code",
        "colab": {
          "base_uri": "https://localhost:8080/",
          "height": 282
        },
        "outputId": "b2e0282f-9322-4b26-a97a-509c5c64e2a7"
      },
      "source": [
        "fig = plt.figure();\n",
        "axes1 = fig.add_axes([0.1,0.1,0.8,0.8])\n",
        "axes2 = fig.add_axes([0.2,0.4,0.2,0.2])\n",
        "plt.show()"
      ],
      "execution_count": 116,
      "outputs": [
        {
          "output_type": "display_data",
          "data": {
            "image/png": "[encoded data removed]",
            "text/plain": [
              "<Figure size 432x288 with 2 Axes>"
            ]
          },
          "metadata": {
            "tags": [],
            "needs_background": "light"
          }
        }
      ]
    }
  ]
}